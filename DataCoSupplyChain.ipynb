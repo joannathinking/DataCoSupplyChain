{
 "cells": [
  {
   "cell_type": "code",
   "execution_count": 1,
   "id": "8cf719ed",
   "metadata": {},
   "outputs": [],
   "source": [
    "import pandas as pd\n",
    "import matplotlib.pyplot as plt\n",
    "import seaborn as sns"
   ]
  },
  {
   "cell_type": "code",
   "execution_count": 2,
   "id": "2adfcb84",
   "metadata": {},
   "outputs": [
    {
     "name": "stdout",
     "output_type": "stream",
     "text": [
      "       Type  Days for shipping (real)  Days for shipment (scheduled)  \\\n",
      "0     DEBIT                         3                              4   \n",
      "1  TRANSFER                         5                              4   \n",
      "2      CASH                         4                              4   \n",
      "3     DEBIT                         3                              4   \n",
      "4   PAYMENT                         2                              4   \n",
      "\n",
      "   Benefit per order  Sales per customer   Delivery Status  \\\n",
      "0          91.250000          314.640015  Advance shipping   \n",
      "1        -249.089996          311.359985     Late delivery   \n",
      "2        -247.779999          309.720001  Shipping on time   \n",
      "3          22.860001          304.809998  Advance shipping   \n",
      "4         134.210007          298.250000  Advance shipping   \n",
      "\n",
      "   Late_delivery_risk  Category Id   Category Name Customer City  ...  \\\n",
      "0                   0           73  Sporting Goods        Caguas  ...   \n",
      "1                   1           73  Sporting Goods        Caguas  ...   \n",
      "2                   0           73  Sporting Goods      San Jose  ...   \n",
      "3                   0           73  Sporting Goods   Los Angeles  ...   \n",
      "4                   0           73  Sporting Goods        Caguas  ...   \n",
      "\n",
      "  Order Zipcode Product Card Id Product Category Id  Product Description  \\\n",
      "0           NaN            1360                  73                  NaN   \n",
      "1           NaN            1360                  73                  NaN   \n",
      "2           NaN            1360                  73                  NaN   \n",
      "3           NaN            1360                  73                  NaN   \n",
      "4           NaN            1360                  73                  NaN   \n",
      "\n",
      "                                  Product Image  Product Name Product Price  \\\n",
      "0  http://images.acmesports.sports/Smart+watch   Smart watch         327.75   \n",
      "1  http://images.acmesports.sports/Smart+watch   Smart watch         327.75   \n",
      "2  http://images.acmesports.sports/Smart+watch   Smart watch         327.75   \n",
      "3  http://images.acmesports.sports/Smart+watch   Smart watch         327.75   \n",
      "4  http://images.acmesports.sports/Smart+watch   Smart watch         327.75   \n",
      "\n",
      "  Product Status shipping date (DateOrders)   Shipping Mode  \n",
      "0              0               2/3/18 22:56  Standard Class  \n",
      "1              0              1/18/18 12:27  Standard Class  \n",
      "2              0              1/17/18 12:06  Standard Class  \n",
      "3              0              1/16/18 11:45  Standard Class  \n",
      "4              0              1/15/18 11:24  Standard Class  \n",
      "\n",
      "[5 rows x 53 columns]\n"
     ]
    }
   ],
   "source": [
    "# Transform csv file into dataframe\n",
    "data = pd.read_csv(\"DataCoSupplyChainDataset.csv\")\n",
    "\n",
    "# Display first few rows of the dataframe\n",
    "print(data.head())"
   ]
  },
  {
   "cell_type": "code",
   "execution_count": 3,
   "id": "4d887083",
   "metadata": {},
   "outputs": [
    {
     "name": "stdout",
     "output_type": "stream",
     "text": [
      "<class 'pandas.core.frame.DataFrame'>\n",
      "RangeIndex: 180519 entries, 0 to 180518\n",
      "Data columns (total 53 columns):\n",
      " #   Column                         Non-Null Count   Dtype  \n",
      "---  ------                         --------------   -----  \n",
      " 0   Type                           180519 non-null  object \n",
      " 1   Days for shipping (real)       180519 non-null  int64  \n",
      " 2   Days for shipment (scheduled)  180519 non-null  int64  \n",
      " 3   Benefit per order              180519 non-null  float64\n",
      " 4   Sales per customer             180519 non-null  float64\n",
      " 5   Delivery Status                180519 non-null  object \n",
      " 6   Late_delivery_risk             180519 non-null  int64  \n",
      " 7   Category Id                    180519 non-null  int64  \n",
      " 8   Category Name                  180519 non-null  object \n",
      " 9   Customer City                  180519 non-null  object \n",
      " 10  Customer Country               180519 non-null  object \n",
      " 11  Customer Email                 180519 non-null  object \n",
      " 12  Customer Fname                 180519 non-null  object \n",
      " 13  Customer Id                    180519 non-null  int64  \n",
      " 14  Customer Lname                 180511 non-null  object \n",
      " 15  Customer Password              180519 non-null  object \n",
      " 16  Customer Segment               180519 non-null  object \n",
      " 17  Customer State                 180519 non-null  object \n",
      " 18  Customer Street                180519 non-null  object \n",
      " 19  Customer Zipcode               180516 non-null  float64\n",
      " 20  Department Id                  180519 non-null  int64  \n",
      " 21  Department Name                180519 non-null  object \n",
      " 22  Latitude                       180519 non-null  float64\n",
      " 23  Longitude                      180519 non-null  float64\n",
      " 24  Market                         180519 non-null  object \n",
      " 25  Order City                     180519 non-null  object \n",
      " 26  Order Country                  180519 non-null  object \n",
      " 27  Order Customer Id              180519 non-null  int64  \n",
      " 28  order date (DateOrders)        180519 non-null  object \n",
      " 29  Order Id                       180519 non-null  int64  \n",
      " 30  Order Item Cardprod Id         180519 non-null  int64  \n",
      " 31  Order Item Discount            180519 non-null  float64\n",
      " 32  Order Item Discount Rate       180519 non-null  float64\n",
      " 33  Order Item Id                  180519 non-null  int64  \n",
      " 34  Order Item Product Price       180519 non-null  float64\n",
      " 35  Order Item Profit Ratio        180519 non-null  float64\n",
      " 36  Order Item Quantity            180519 non-null  int64  \n",
      " 37  Sales                          180519 non-null  float64\n",
      " 38  Order Item Total               180519 non-null  float64\n",
      " 39  Order Profit Per Order         180519 non-null  float64\n",
      " 40  Order Region                   180519 non-null  object \n",
      " 41  Order State                    180519 non-null  object \n",
      " 42  Order Status                   180519 non-null  object \n",
      " 43  Order Zipcode                  24840 non-null   float64\n",
      " 44  Product Card Id                180519 non-null  int64  \n",
      " 45  Product Category Id            180519 non-null  int64  \n",
      " 46  Product Description            0 non-null       float64\n",
      " 47  Product Image                  180519 non-null  object \n",
      " 48  Product Name                   180519 non-null  object \n",
      " 49  Product Price                  180519 non-null  float64\n",
      " 50  Product Status                 180519 non-null  int64  \n",
      " 51  shipping date (DateOrders)     180519 non-null  object \n",
      " 52  Shipping Mode                  180519 non-null  object \n",
      "dtypes: float64(15), int64(14), object(24)\n",
      "memory usage: 73.0+ MB\n",
      "None\n"
     ]
    }
   ],
   "source": [
    "# Check information of each column\n",
    "print(data.info())"
   ]
  },
  {
   "cell_type": "code",
   "execution_count": 4,
   "id": "76dba602",
   "metadata": {},
   "outputs": [],
   "source": [
    "# Unify column name\n",
    "data.rename(columns={\"order date (DateOrders)\": \"Order date\",\n",
    "                     \"shipping date (DateOrders)\":\"Shipping date\",\n",
    "                     \"Late_delivery_risk\":\"Late delivery risk\"}, inplace=True)"
   ]
  },
  {
   "cell_type": "code",
   "execution_count": 5,
   "id": "ce63f9fb",
   "metadata": {},
   "outputs": [],
   "source": [
    "# Convert \"Order date\" and \"Shipping data\" to datetime format\n",
    "data[\"Order date\"] = pd.to_datetime(data[\"Order date\"])\n",
    "data[\"Shipping date\"] = pd.to_datetime(data[\"Shipping date\"])"
   ]
  },
  {
   "cell_type": "markdown",
   "id": "0932e1eb",
   "metadata": {},
   "source": [
    "## Calculationg the Perfect Order Rate (POR) helps assess how efficiently and accurately orders are fulfilled, ensuring they meet delivery, completeness and quality standards. "
   ]
  },
  {
   "cell_type": "markdown",
   "id": "7e384a57",
   "metadata": {},
   "source": [
    "### To calculate the POR, the first step is to calculate the On-Time Delivery(OTD). "
   ]
  },
  {
   "cell_type": "code",
   "execution_count": 6,
   "id": "65641bff",
   "metadata": {},
   "outputs": [
    {
     "name": "stdout",
     "output_type": "stream",
     "text": [
      "COMPLETE    0.42514\n",
      "Name: Order Status, dtype: float64\n"
     ]
    }
   ],
   "source": [
    "# Find out the number of complete orders\n",
    "complete_order = data[data[\"Order Status\"] == \"COMPLETE\"]\n",
    "num_complete_orders = complete_order[\"Order Status\"].value_counts()\n",
    "\n",
    "# Find out the number of complete orders that delivered on time\n",
    "on_time_complete = complete_order[complete_order[\"Days for shipping (real)\"] <= complete_order[\"Days for shipment (scheduled)\"]]\n",
    "num_on_time_complete = on_time_complete[\"Order Status\"].value_counts()\n",
    "\n",
    "# On-Time Delivery Ratio\n",
    "otd = num_on_time_complete / num_complete_orders\n",
    "print(otd)"
   ]
  },
  {
   "cell_type": "markdown",
   "id": "3aa3b45b",
   "metadata": {},
   "source": [
    "### Next is to find out the complete order rate. Means no missing or incorrect items."
   ]
  },
  {
   "cell_type": "code",
   "execution_count": 7,
   "id": "af254004",
   "metadata": {},
   "outputs": [
    {
     "name": "stdout",
     "output_type": "stream",
     "text": [
      "COMPLETE    0.329555\n",
      "Name: Order Status, dtype: float64\n"
     ]
    }
   ],
   "source": [
    "# Find out the number of complete orders\n",
    "complete_order = data[data[\"Order Status\"] == \"COMPLETE\"]\n",
    "num_complete_orders = complete_order[\"Order Status\"].value_counts()\n",
    "\n",
    "# Calculate the total orders\n",
    "total_order = data[\"Order Status\"].count()\n",
    "\n",
    "# Complete orders\n",
    "complete_order_rate = num_complete_orders / total_order\n",
    "print(complete_order_rate)"
   ]
  },
  {
   "cell_type": "markdown",
   "id": "77dd1604",
   "metadata": {},
   "source": [
    "### Use the data we got for now to calculate the Perfect Order Rate (POR)"
   ]
  },
  {
   "cell_type": "code",
   "execution_count": 8,
   "id": "620d92b2",
   "metadata": {},
   "outputs": [
    {
     "name": "stdout",
     "output_type": "stream",
     "text": [
      "COMPLETE    0.140107\n",
      "Name: Order Status, dtype: float64\n"
     ]
    }
   ],
   "source": [
    "por = otd * complete_order_rate\n",
    "print(por)"
   ]
  },
  {
   "cell_type": "markdown",
   "id": "0b2fb17e",
   "metadata": {},
   "source": [
    "## DataCo Global currently has an On-Time Delivery (OTD) rate of 43%, a Complete Order Rate of 33%, and a Perfect Order Rate (POR) of 14%. These figures indicate significant inefficiencies in the fulfillment process. To enhance performance, the company must focus on improving delivery speed, order accuracy, and overall fulfillment reliability."
   ]
  },
  {
   "cell_type": "markdown",
   "id": "70da2f80",
   "metadata": {},
   "source": [
    "### Next is to calculate the Order Cycle Time(OCT)"
   ]
  },
  {
   "cell_type": "code",
   "execution_count": 9,
   "id": "d8cb66e9",
   "metadata": {},
   "outputs": [
    {
     "name": "stdout",
     "output_type": "stream",
     "text": [
      "3.4631456859020693\n"
     ]
    }
   ],
   "source": [
    "# Find out the complete orders\n",
    "complete_order = data[data[\"Order Status\"] == \"COMPLETE\"]\n",
    "\n",
    "# Calculate the total time from order placement to final delivery\n",
    "days_spent = (complete_order[\"Shipping date\"] - complete_order[\"Order date\"]).dt.days\n",
    "avg_days_spent = days_spent.mean()\n",
    "print(avg_days_spent)"
   ]
  },
  {
   "cell_type": "markdown",
   "id": "4b48d0f2",
   "metadata": {},
   "source": [
    "### Analyze the order status"
   ]
  },
  {
   "cell_type": "code",
   "execution_count": 10,
   "id": "403201b4",
   "metadata": {},
   "outputs": [
    {
     "name": "stdout",
     "output_type": "stream",
     "text": [
      "      Order Status  Count  Proportion\n",
      "0         COMPLETE  59491        0.33\n",
      "1  PENDING_PAYMENT  39832        0.22\n",
      "2       PROCESSING  21902        0.12\n",
      "3          PENDING  20227        0.11\n",
      "4           CLOSED  19616        0.11\n",
      "5          ON_HOLD   9804        0.05\n",
      "6  SUSPECTED_FRAUD   4062        0.02\n",
      "7         CANCELED   3692        0.02\n",
      "8   PAYMENT_REVIEW   1893        0.01\n"
     ]
    }
   ],
   "source": [
    "# Get the total orders\n",
    "total_orders = data[\"Order Status\"].value_counts().reset_index().rename(columns={'index': 'Order Status', 'Order Status': 'Count'})\n",
    "total_orders[\"Proportion\"] = round(total_orders[\"Count\"] / data[\"Order Status\"].count(), 2)\n",
    "# Save total_orders into csv file\n",
    "total_orders.to_csv(\"Total Orders.csv\", index=False)\n",
    "print(total_orders)"
   ]
  },
  {
   "cell_type": "code",
   "execution_count": 11,
   "id": "3197496d",
   "metadata": {
    "scrolled": false
   },
   "outputs": [
    {
     "data": {
      "image/png": "[encoded data removed]",
      "text/plain": [
       "<Figure size 640x480 with 1 Axes>"
      ]
     },
     "metadata": {},
     "output_type": "display_data"
    }
   ],
   "source": [
    "plot = sns.barplot(data=total_orders, x=\"Order Status\", y=\"Count\")\n",
    "plt.xticks(rotation=45)\n",
    "plot.bar_label(plot.containers[0], labels=total_orders[\"Proportion\"])\n",
    "plot.set_ylabel(\"Number of Orders\")\n",
    "sns.set_style(\"darkgrid\")\n",
    "plt.title(\"Order Status and Proportion\")\n",
    "plt.show()"
   ]
  },
  {
   "cell_type": "markdown",
   "id": "1bd5f83a",
   "metadata": {},
   "source": [
    "## Cost Metrics"
   ]
  },
  {
   "cell_type": "markdown",
   "id": "a8a85be2",
   "metadata": {},
   "source": [
    "### Total Supply Chain Cost (% of revenue)"
   ]
  },
  {
   "cell_type": "code",
   "execution_count": 12,
   "id": "5290d90b",
   "metadata": {},
   "outputs": [],
   "source": [
    "# Join DataCo Cost Table\n",
    "cost = pd.read_csv(\"Cost.csv\")\n",
    "merged = data.merge(cost, how=\"left\", left_on=\"Order Id\", right_on=\"Order ID\")"
   ]
  },
  {
   "cell_type": "code",
   "execution_count": 13,
   "id": "139c248c",
   "metadata": {},
   "outputs": [
    {
     "name": "stdout",
     "output_type": "stream",
     "text": [
      "Total Supply Chain Cost is: 15.81%\n"
     ]
    }
   ],
   "source": [
    "# Total Supply Chain Cost% = total fulfillment cost / revenue * 100\n",
    "total_supply_chain_cost = round(merged[\"Total Fulfillment Cost ($)\"].sum() / merged[\"Revenue ($)\"].sum() * 100, 2)\n",
    "print(f\"Total Supply Chain Cost is: {total_supply_chain_cost}%\")"
   ]
  },
  {
   "cell_type": "markdown",
   "id": "a1b9ffc0",
   "metadata": {},
   "source": [
    "### Cost per Order"
   ]
  },
  {
   "cell_type": "code",
   "execution_count": 18,
   "id": "22f80c3d",
   "metadata": {},
   "outputs": [
    {
     "name": "stdout",
     "output_type": "stream",
     "text": [
      "Average cost per order is: $43.5\n",
      "Average order price is: $183.11\n"
     ]
    }
   ],
   "source": [
    "# Average Cost per Order: Total fulfillment cost / number of orders\n",
    "avg_cost_per_order = round(merged[\"Total Fulfillment Cost ($)\"].sum() / merged[\"Order ID\"].count(), 2)\n",
    "print(f\"Average cost per order is: ${avg_cost_per_order}\")\n",
    "\n",
    "# Average Order Price\n",
    "avg_order_price =round(merged[\"Order Item Total\"].sum() / merged[\"Order Item Total\"].count(), 2)\n",
    "print(f\"Average order price is: ${avg_order_price}\")"
   ]
  },
  {
   "cell_type": "markdown",
   "id": "fbadd2db",
   "metadata": {},
   "source": [
    "### Freight Cost per Unit"
   ]
  },
  {
   "cell_type": "code",
   "execution_count": 15,
   "id": "a6ee5977",
   "metadata": {},
   "outputs": [
    {
     "name": "stdout",
     "output_type": "stream",
     "text": [
      "10.087042079231066\n"
     ]
    }
   ],
   "source": [
    "# Freight Cost per Unit: shipping cost / total unit shipped\n",
    "freight_cost_per_unit = merged[\"Shipping Cost ($)\"] / merged.groupby(\"Order Id\")[\"Order Item Quantity\"].sum()\n",
    "print(freight_cost_per_unit.dropna().mean())"
   ]
  },
  {
   "cell_type": "code",
   "execution_count": null,
   "id": "470218a2",
   "metadata": {},
   "outputs": [],
   "source": []
  }
 ],
 "metadata": {
  "kernelspec": {
   "display_name": "Python 3 (ipykernel)",
   "language": "python",
   "name": "python3"
  },
  "language_info": {
   "codemirror_mode": {
    "name": "ipython",
    "version": 3
   },
   "file_extension": ".py",
   "mimetype": "text/x-python",
   "name": "python",
   "nbconvert_exporter": "python",
   "pygments_lexer": "ipython3",
   "version": "3.9.13"
  }
 },
 "nbformat": 4,
 "nbformat_minor": 5
}
